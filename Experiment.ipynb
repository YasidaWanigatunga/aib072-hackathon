{
 "cells": [
  {
   "cell_type": "code",
   "execution_count": 55,
   "id": "f2af863e-60b8-43d5-9482-44716079315d",
   "metadata": {},
   "outputs": [],
   "source": [
    "#from langchain.llms import OpenAI\n",
    "#from dotenv import load_dotenv"
   ]
  },
  {
   "cell_type": "code",
   "execution_count": 56,
   "id": "de8de4c7-4d8a-4c29-80f8-1008d7f4c84e",
   "metadata": {},
   "outputs": [
    {
     "data": {
      "text/plain": [
       "True"
      ]
     },
     "execution_count": 56,
     "metadata": {},
     "output_type": "execute_result"
    }
   ],
   "source": [
    "load_dotenv()"
   ]
  },
  {
   "cell_type": "code",
   "execution_count": 57,
   "id": "ac578d8a-9370-41ae-a4b4-8ea72c284400",
   "metadata": {},
   "outputs": [],
   "source": [
    "llm = OpenAI(temperature=0.6)"
   ]
  },
  {
   "cell_type": "code",
   "execution_count": 4,
   "id": "098ff068-1b04-4e0f-a5a1-a6d4b8f7c600",
   "metadata": {},
   "outputs": [
    {
     "name": "stdout",
     "output_type": "stream",
     "text": [
      "\n",
      "\n",
      "Subject: Requesting Refund for Electronic Item\n",
      "\n",
      "Dear [Name],\n",
      "\n",
      "I recently purchased an electronic item from [Store Name], and I am writing to request a refund. The item was not in working condition when I received it, and I have been unable to get it to work despite multiple attempts.\n",
      "\n",
      "I have included the original purchase receipt for your reference, along with a copy of my sales receipt and the item's serial number. I would like to receive a full refund for the purchase, including any applicable taxes.\n",
      "\n",
      "I appreciate your prompt attention to this matter. Please let me know if you have any questions or need additional information.\n",
      "\n",
      "Sincerely,\n",
      "\n",
      "[Name]\n"
     ]
    }
   ],
   "source": [
    "essay = llm(\"write email requesting refund for electronic item\")\n",
    "print(essay)"
   ]
  },
  {
   "cell_type": "code",
   "execution_count": 5,
   "id": "eac21b76-bccc-4139-b594-474736bd2fb6",
   "metadata": {},
   "outputs": [
    {
     "name": "stdout",
     "output_type": "stream",
     "text": [
      "Requirement already satisfied: pypdf in e:\\projects - ai\\hackathon\\env\\lib\\site-packages (3.17.1)\n"
     ]
    },
    {
     "name": "stderr",
     "output_type": "stream",
     "text": [
      "\n",
      "[notice] A new release of pip is available: 23.2.1 -> 23.3.1\n",
      "[notice] To update, run: python.exe -m pip install --upgrade pip\n"
     ]
    }
   ],
   "source": [
    "!pip install pypdf"
   ]
  },
  {
   "cell_type": "code",
   "execution_count": 58,
   "id": "3672f38a-90da-4e03-a02c-8b1c350d2f30",
   "metadata": {},
   "outputs": [],
   "source": [
    "from langchain.document_loaders import PyPDFLoader\n",
    "\n",
    "loader = PyPDFLoader(\"./data/products.pdf\")"
   ]
  },
  {
   "cell_type": "code",
   "execution_count": 77,
   "id": "99063468-a2a6-4821-a0cb-e682ed42c3bb",
   "metadata": {},
   "outputs": [],
   "source": [
    "pages = loader.load_and_split()"
   ]
  },
  {
   "cell_type": "code",
   "execution_count": 78,
   "id": "cec3f485-4081-48a3-8a70-bd0fe10db0f2",
   "metadata": {},
   "outputs": [
    {
     "data": {
      "text/plain": [
       "Document(page_content=\"Product\\nRecommendation\\nChatbots\\nfor\\nan\\nOnline\\nFashion\\nRetailer\\nUser:\\nHi\\nthere!\\nI'm\\nlooking\\nfor\\na\\nnew\\npair\\nof\\nrunning\\nshoes.\\nCan\\nyou\\nhelp\\nme\\nfind\\nsome\\noptions?\\nChatbot:\\nOf\\ncourse!\\nI'd\\nbe\\nhappy\\nto\\nassist\\nyou\\nin\\nfinding\\nthe\\nperfect\\nrunning\\nshoes.\\nTo\\nnarrow\\ndown\\nthe\\noptions,\\ncould\\nyou\\nplease\\nprovide\\nsome\\nadditional\\ninformation?\\nWhat's\\nyour\\npreferred\\nbrand,\\nand\\ndo\\nyou\\nhave\\na\\nspecific\\nbudget\\nin\\nmind?\\nUser:\\nI'm\\nopen\\nto\\ndifferent\\nbrands,\\nand\\nmy\\nbudget\\nis\\naround\\n$100.\\nI\\nusually\\nrun\\non\\nboth\\ntrails\\nand\\npavement.\\nChatbot:\\nGreat!\\nConsidering\\nyour\\nbudget\\nand\\npreference\\nfor\\nversatile\\nrunning\\nshoes,\\ndo\\nyou\\nhave\\nany\\nspecific\\ncolor\\npreferences?\\nAlso,\\nare\\nyou\\nlooking\\nfor\\nshoes\\nwith\\nspecific\\nfeatures,\\nsuch\\nas\\nextra\\ncushioning,\\nstability,\\nor\\nlightweight\\ndesign?\\nUser:\\nI\\nprefer\\nneutral\\ncolors,\\nand\\nlightweight\\nshoes\\nwould\\nbe\\nideal.\\nAlso,\\ngood\\narch\\nsupport\\nis\\nimportant\\nfor\\nme.\\nChatbot:\\nNoted!\\nNeutral\\ncolors\\nand\\nlightweight\\ndesign\\nwith\\ngood\\narch\\nsupport.\\nIs\\nthere\\na\\nparticular\\nsize\\nyou\\nusually\\nwear,\\nor\\nwould\\nyou\\nlike\\nsome\\nrecommendations\\nbased\\non\\ncustomer\\nreviews\\nand\\nratings?\\nUser:\\nI\\nwear\\na\\nsize\\n9,\\nand\\nyes,\\nI'd\\nlike\\nto\\nsee\\nsome\\ntop-rated\\noptions.\\nChatbot:\\nPerfect!\\nI'll\\nfilter\\nthe\\noptions\\nfor\\nsize\\n9\\nand\\nfocus\\non\\ntop-rated\\nrunning\\nshoes.\\nJust\\nto\\nconfirm,\\nare\\nyou\\ninterested\\nin\\nany\\nspecific\\nbrands,\\nor\\nshould\\nI\\ninclude\\na\\nvariety\\nof\\nreputable\\nbrands\\nin\\nthe\\nrecommendations?\\nUser:\\nI'm\\nopen\\nto\\nreputable\\nbrands.\\nJust\\nlooking\\nfor\\nquality\\nand\\ncomfort.\\nChatbot:\\nUnderstood!\\nI'll\\ncompile\\na\\nlist\\nof\\ntop-rated,\\nneutral-colored,\\nlightweight\\nrunning\\nshoes\\nwith\\ngood\\narch\\nsupport,\\nall\\nwithin\\nthe\\n$100\\nbudget.\\nThis\\nmight\\ntake\\na\\nmoment.\\nThank\\nyou\\nfor\\nyour\\npreferences!\\n[Chatbot\\ntakes\\na\\nmoment\\nto\\ngather\\nrecommendations]\\nChatbot:\\nHere\\nare\\nthree\\nhighly\\nrated\\noptions\\nthat\\nmatch\\nyour\\ncriteria:\\nNike\\nAir\\nZoom\\nPegasus\\n38\\nBrooks\\nGhost\\n14\", metadata={'source': './data/products.pdf', 'page': 0})"
      ]
     },
     "execution_count": 78,
     "metadata": {},
     "output_type": "execute_result"
    }
   ],
   "source": [
    "pages[0]"
   ]
  },
  {
   "cell_type": "code",
   "execution_count": 61,
   "id": "b1a1b534-3a0f-4fb1-89c8-906f253018dc",
   "metadata": {},
   "outputs": [],
   "source": [
    "from langchain.embeddings import OpenAIEmbeddings"
   ]
  },
  {
   "cell_type": "code",
   "execution_count": 62,
   "id": "6b0f965e-fed0-4eb5-a262-947832289a83",
   "metadata": {},
   "outputs": [],
   "source": [
    "embeddings = OpenAIEmbeddings()"
   ]
  },
  {
   "cell_type": "markdown",
   "id": "7f8f7775-4429-4fda-9c17-9d284e81c3b2",
   "metadata": {},
   "source": [
    "### split"
   ]
  },
  {
   "cell_type": "code",
   "execution_count": 63,
   "id": "c3e66a1c-d05f-4b88-8f4a-1a92570724a6",
   "metadata": {},
   "outputs": [],
   "source": [
    "from langchain.text_splitter import CharacterTextSplitter"
   ]
  },
  {
   "cell_type": "code",
   "execution_count": 64,
   "id": "f56cf034-64ca-47d4-92d8-ad9ff88d5188",
   "metadata": {},
   "outputs": [],
   "source": [
    "text_splitter = CharacterTextSplitter(chunk_size=100, chunk_overlap=0)"
   ]
  },
  {
   "cell_type": "code",
   "execution_count": 65,
   "id": "1cb53f60-d3b8-4b91-86f3-f8e5ae2e27c6",
   "metadata": {},
   "outputs": [],
   "source": [
    "docs = text_splitter.split_documents(pages)"
   ]
  },
  {
   "cell_type": "code",
   "execution_count": 66,
   "id": "0084e3b3-a25b-4fb2-9fbb-33a48697aa1d",
   "metadata": {},
   "outputs": [
    {
     "data": {
      "text/plain": [
       "[Document(page_content=\"Product\\nRecommendation\\nChatbots\\nfor\\nan\\nOnline\\nFashion\\nRetailer\\nUser:\\nHi\\nthere!\\nI'm\\nlooking\\nfor\\na\\nnew\\npair\\nof\\nrunning\\nshoes.\\nCan\\nyou\\nhelp\\nme\\nfind\\nsome\\noptions?\\nChatbot:\\nOf\\ncourse!\\nI'd\\nbe\\nhappy\\nto\\nassist\\nyou\\nin\\nfinding\\nthe\\nperfect\\nrunning\\nshoes.\\nTo\\nnarrow\\ndown\\nthe\\noptions,\\ncould\\nyou\\nplease\\nprovide\\nsome\\nadditional\\ninformation?\\nWhat's\\nyour\\npreferred\\nbrand,\\nand\\ndo\\nyou\\nhave\\na\\nspecific\\nbudget\\nin\\nmind?\\nUser:\\nI'm\\nopen\\nto\\ndifferent\\nbrands,\\nand\\nmy\\nbudget\\nis\\naround\\n$100.\\nI\\nusually\\nrun\\non\\nboth\\ntrails\\nand\\npavement.\\nChatbot:\\nGreat!\\nConsidering\\nyour\\nbudget\\nand\\npreference\\nfor\\nversatile\\nrunning\\nshoes,\\ndo\\nyou\\nhave\\nany\\nspecific\\ncolor\\npreferences?\\nAlso,\\nare\\nyou\\nlooking\\nfor\\nshoes\\nwith\\nspecific\\nfeatures,\\nsuch\\nas\\nextra\\ncushioning,\\nstability,\\nor\\nlightweight\\ndesign?\\nUser:\\nI\\nprefer\\nneutral\\ncolors,\\nand\\nlightweight\\nshoes\\nwould\\nbe\\nideal.\\nAlso,\\ngood\\narch\\nsupport\\nis\\nimportant\\nfor\\nme.\\nChatbot:\\nNoted!\\nNeutral\\ncolors\\nand\\nlightweight\\ndesign\\nwith\\ngood\\narch\\nsupport.\\nIs\\nthere\\na\\nparticular\\nsize\\nyou\\nusually\\nwear,\\nor\\nwould\\nyou\\nlike\\nsome\\nrecommendations\\nbased\\non\\ncustomer\\nreviews\\nand\\nratings?\\nUser:\\nI\\nwear\\na\\nsize\\n9,\\nand\\nyes,\\nI'd\\nlike\\nto\\nsee\\nsome\\ntop-rated\\noptions.\\nChatbot:\\nPerfect!\\nI'll\\nfilter\\nthe\\noptions\\nfor\\nsize\\n9\\nand\\nfocus\\non\\ntop-rated\\nrunning\\nshoes.\\nJust\\nto\\nconfirm,\\nare\\nyou\\ninterested\\nin\\nany\\nspecific\\nbrands,\\nor\\nshould\\nI\\ninclude\\na\\nvariety\\nof\\nreputable\\nbrands\\nin\\nthe\\nrecommendations?\\nUser:\\nI'm\\nopen\\nto\\nreputable\\nbrands.\\nJust\\nlooking\\nfor\\nquality\\nand\\ncomfort.\\nChatbot:\\nUnderstood!\\nI'll\\ncompile\\na\\nlist\\nof\\ntop-rated,\\nneutral-colored,\\nlightweight\\nrunning\\nshoes\\nwith\\ngood\\narch\\nsupport,\\nall\\nwithin\\nthe\\n$100\\nbudget.\\nThis\\nmight\\ntake\\na\\nmoment.\\nThank\\nyou\\nfor\\nyour\\npreferences!\\n[Chatbot\\ntakes\\na\\nmoment\\nto\\ngather\\nrecommendations]\\nChatbot:\\nHere\\nare\\nthree\\nhighly\\nrated\\noptions\\nthat\\nmatch\\nyour\\ncriteria:\\nNike\\nAir\\nZoom\\nPegasus\\n38\\nBrooks\\nGhost\\n14\", metadata={'source': './data/products.pdf', 'page': 0}),\n",
       " Document(page_content=\"New\\nBalance\\nFresh\\nFoam\\n1080v11\\nFeel\\nfree\\nto\\nclick\\non\\nany\\noption\\nfor\\nmore\\ndetails.\\nLet\\nme\\nknow\\nif\\nyou\\nhave\\nany\\nspecific\\nquestions\\nor\\nif\\nthere's\\nanything\\nelse\\nI\\ncan\\nhelp\\nyou\\nwith!\\nUser:\\nHi,\\nI'm\\nlooking\\nto\\nbuy\\na\\nnew\\ndigital\\ncamera.\\nCan\\nyou\\nrecommend\\nsome\\ngood\\noptions\\nfor\\namateur\\nphotography?\\nChatbot:\\nCertainly!\\nTo\\nhelp\\nme\\nnarrow\\ndown\\nthe\\nchoices,\\ncould\\nyou\\nprovide\\nmore\\ndetails?\\nAre\\nyou\\nlooking\\nfor\\na\\nspecific\\ntype\\nof\\ncamera,\\nsuch\\nas\\na\\npoint-and-shoot\\nor\\na\\nmirrorless\\ncamera?\\nAlso,\\ndo\\nyou\\nhave\\na\\npreferred\\nbudget\\nrange?\\nUser:\\nI'm\\nopen\\nto\\nboth\\npoint-and-shoot\\nand\\nmirrorless\\noptions.\\nMy\\nbudget\\nis\\naround\\n$500.\\nChatbot:\\nGreat!\\nConsidering\\nyour\\nbudget\\nand\\ninterest\\nin\\nboth\\ntypes,\\nare\\nthere\\nany\\nspecific\\nfeatures\\nyou're\\nlooking\\nfor?\\nFor\\ninstance,\\ndo\\nyou\\nprioritize\\nhigh\\nmegapixels,\\nease\\nof\\nuse,\\nor\\nadvanced\\nmanual\\ncontrols?\\nUser:\\nI'd\\nlike\\nsomething\\nwith\\ngood\\nimage\\nquality\\nand\\nease\\nof\\nuse.\\nI'm\\nnot\\ntoo\\nexperienced\\nwith\\nmanual\\ncontrols\\nyet.\\nChatbot:\\nGot\\nit!\\nOptimal\\nimage\\nquality\\nand\\nuser-friendly\\noptions.\\nAny\\npreferences\\nregarding\\nbrand\\nor\\nany\\nspecific\\naccessories\\nyou\\nmight\\nneed,\\nlike\\na\\ncarrying\\ncase\\nor\\nadditional\\nlenses?\\nUser:\\nNo\\nspecific\\nbrand\\npreference,\\nand\\na\\ncarrying\\ncase\\nwould\\nbe\\nhelpful.\\nChatbot:\\nExcellent!\\nI'll\\nfocus\\non\\ncameras\\nwith\\ngood\\nimage\\nquality,\\nuser-friendly\\nfeatures,\\nand\\nconsider\\noptions\\nwith\\na\\ncarrying\\ncase.\\nAlso,\\ndo\\nyou\\nhave\\nany\\nsize\\npreferences\\nfor\\nthe\\ncamera?\\nCompact\\nand\\nlightweight,\\nor\\nare\\nyou\\nopen\\nto\\nslightly\\nlarger\\nmodels?\\nUser:\\nCompact\\nand\\nlightweight\\nwould\\nbe\\ngreat.\\nChatbot:\\nPerfect!\\nI'll\\ncompile\\na\\nlist\\nof\\nwell-reviewed\\ncompact\\ndigital\\ncameras\\nwith\\ngood\\nimage\\nquality,\\nease\\nof\\nuse,\\nand\\noptions\\nthat\\ncome\\nwith\\na\\ncarrying\\ncase.\\nThis\\nmay\\ntake\\na\\nmoment.\\nThank\\nyou\\nfor\\nyour\\npreferences!\\n[Chatbot\\ntakes\\na\\nmoment\\nto\\ngather\\nrecommendations]\\nChatbot:\\nHere\\nare\\nthree\\nhighly\\nrated\\ndigital\\ncameras\\nthat\\nmatch\\nyour\\ncriteria:\\nSony\\nCyber-shot\\nRX100\\nVII\\nCanon\\nPowerShot\\nG7\\nX\\nMark\\nIII\\nPanasonic\\nLumix\\nZS200\", metadata={'source': './data/products.pdf', 'page': 1}),\n",
       " Document(page_content=\"Feel\\nfree\\nto\\nexplore\\neach\\noption\\nfor\\nmore\\ndetails.\\nIf\\nyou\\nhave\\nany\\nspecific\\nquestions\\nor\\nneed\\nfurther\\nassistance,\\nlet\\nme\\nknow!\\nUser:\\nHi!\\nI'm\\nlooking\\nfor\\na\\nlaptop\\nfor\\ncollege.\\nCan\\nyou\\nrecommend\\none\\nwithin\\na\\n$1000\\nbudget?\\nChatbot:\\nAbsolutely!\\nChoosing\\nthe\\nright\\nlaptop\\nfor\\ncollege\\nis\\ncrucial.\\nTo\\nnarrow\\ndown\\nthe\\noptions,\\ncould\\nyou\\nshare\\nmore\\ndetails\\nabout\\nyour\\npreferences?\\nAre\\nyou\\nlooking\\nfor\\na\\nspecific\\noperating\\nsystem,\\nlike\\nWindows,\\nmacOS,\\nor\\nChromeOS?\\nAdditionally,\\ndo\\nyou\\nhave\\nany\\npreferences\\nregarding\\nthe\\nscreen\\nsize,\\nweight,\\nor\\nspecific\\nfeatures\\nyou\\nneed\\nfor\\nyour\\ncollege\\ntasks?\\nUser:\\nI\\nprefer\\nWindows,\\nand\\na\\nlightweight\\nlaptop\\nwould\\nbe\\ngreat.\\nI\\nneed\\nit\\nfor\\nprogramming\\nand\\nmultimedia\\ntasks,\\nso\\na\\ngood\\nprocessor\\nand\\nsufficient\\nRAM\\nare\\nimportant.\\nChatbot:\\nGot\\nit!\\nA\\nlightweight\\nWindows\\nlaptop\\nwith\\na\\npowerful\\nprocessor\\nand\\nample\\nRAM\\nfor\\nprogramming\\nand\\nmultimedia\\ntasks.\\nWould\\nyou\\nprefer\\na\\nstandard\\nlaptop,\\nor\\nare\\nyou\\nopen\\nto\\n2-in-1\\nconvertible\\nlaptops\\nwith\\ntouchscreen\\ncapabilities?\\nUser:\\nA\\nstandard\\nlaptop\\nwould\\nbe\\nfine.\\nChatbot:\\nExcellent!\\nI'll\\nconsider\\nlaptops\\nwith\\nWindows\\nOS,\\nlightweight\\ndesign,\\na\\npowerful\\nprocessor,\\nand\\nsufficient\\nRAM,\\nall\\nwithin\\nyour\\n$1000\\nbudget.\\nAdditionally,\\nany\\npreferences\\nregarding\\nstorage\\ncapacity\\nor\\nbrand\\nloyalty?\\nUser:\\nAround\\n512GB\\nof\\nstorage\\nwould\\nbe\\ngood,\\nand\\nI\\ndon't\\nhave\\na\\nspecific\\nbrand\\npreference.\\nChatbot:\\nUnderstood!\\nI'll\\ncompile\\na\\nlist\\nof\\nlaptops\\nthat\\nmatch\\nyour\\ncriteria.\\nThis\\nmay\\ntake\\na\\nmoment.\\nThank\\nyou\\nfor\\nproviding\\nyour\\npreferences!\\n[Chatbot\\ntakes\\na\\nmoment\\nto\\ngather\\nrecommendations]\\nChatbot:\\nHere\\nare\\nthree\\nhighly\\nrated\\nlaptops\\nthat\\nmeet\\nyour\\nrequirements:\\nDell\\nXPS\\n13\\nHP\\nEnvy\\n13\\nLenovo\\nThinkPad\\nL14\\nFeel\\nfree\\nto\\nexplore\\neach\\noption\\nfor\\nmore\\ndetails.\\nLet\\nme\\nknow\\nif\\nyou\\nhave\\nspecific\\nquestions\\nor\\nif\\nthere's\\nanything\\nelse\\nI\\ncan\\nassist\\nyou\\nwith!\", metadata={'source': './data/products.pdf', 'page': 2}),\n",
       " Document(page_content=\"User:\\nI\\nneed\\na\\nnew\\nnoise-canceling\\nheadphone.\\nCan\\nyou\\nsuggest\\nsome\\ngood\\noptions\\nunder\\n$200?\\nChatbot:\\nAbsolutely!\\nNoise-canceling\\nheadphones\\ncan\\nenhance\\nyour\\nlistening\\nexperience.\\nTo\\nbetter\\nassist\\nyou,\\ndo\\nyou\\nprefer\\nover-ear\\nheadphones\\nor\\nin-ear\\nbuds?\\nAdditionally,\\nany\\nspecific\\nbrand\\npreference\\nor\\nfeatures\\nyou're\\nlooking\\nfor,\\nsuch\\nas\\nlong\\nbattery\\nlife\\nor\\nBluetooth\\nconnectivity?\\nUser:\\nI\\nprefer\\nover-ear\\nheadphones,\\nand\\ncomfort\\nis\\nessential.\\nBluetooth\\nconnectivity\\nwould\\nbe\\ngreat,\\nand\\nI'm\\nopen\\nto\\nreputable\\nbrands.\\nChatbot:\\nGreat\\nchoices!\\nComfortable\\nover-ear\\nheadphones\\nwith\\nBluetooth\\ncapability\\nand\\na\\nbudget-friendly\\nprice.\\nAny\\npreferences\\nregarding\\ncolor\\nor\\ndesign?\\nAnd,\\nwould\\nyou\\nlike\\nheadphones\\nwith\\nadditional\\nfeatures\\nlike\\ntouch\\ncontrols\\nor\\na\\nfoldable\\ndesign\\nfor\\nportability?\\nUser:\\nBlack\\nor\\ngray\\nwould\\nbe\\nnice,\\nand\\ntouch\\ncontrols\\nwould\\nbe\\na\\ncool\\nfeature.\\nChatbot:\\nExcellent!\\nI'll\\nfocus\\non\\nblack\\nor\\ngray\\nover-ear\\nheadphones\\nwith\\ntouch\\ncontrols,\\nBluetooth\\ncapability,\\nand\\nunder\\n$200.\\nAny\\nspecific\\nuse-case\\nscenarios,\\nlike\\ncommuting,\\nwork,\\nor\\nworkouts,\\nthat\\nI\\nshould\\nconsider?\\nUser:\\nMostly\\nfor\\nwork\\nand\\ntravel.\\nChatbot:\\nNoted!\\nI'll\\ncompile\\na\\nlist\\nof\\nnoise-canceling\\nheadphones\\nthat\\nmatch\\nyour\\npreferences.\\nThis\\nmight\\ntake\\na\\nmoment.\\nThank\\nyou\\nfor\\nsharing\\nyour\\ndetails!\\n[Chatbot\\ntakes\\na\\nmoment\\nto\\ngather\\nrecommendations]\\nChatbot:\\nHere\\nare\\nthree\\ntop-rated\\nnoise-canceling\\nheadphones\\nwithin\\nyour\\nbudget:\\nSony\\nWH-CH710N\\nBose\\nQuietComfort\\n35\\nII\\nJBL\\nLIVE\\n650BTNC\\nFeel\\nfree\\nto\\nexplore\\neach\\noption\\nfor\\nmore\\ndetails.\\nLet\\nme\\nknow\\nif\\nyou\\nhave\\nspecific\\nquestions\\nor\\nif\\nthere's\\nanything\\nelse\\nI\\ncan\\nassist\\nyou\\nwith!\", metadata={'source': './data/products.pdf', 'page': 3}),\n",
       " Document(page_content=\"User:\\nI'm\\na\\nfitness\\nenthusiast\\nand\\nneed\\na\\nsmartwatch\\nfor\\ntracking\\nworkouts.\\nWhat's\\na\\ngood\\noption?\\nChatbot:\\nAbsolutely!\\nSmartwatches\\ncan\\nbe\\nexcellent\\nfitness\\ncompanions.\\nTo\\nbetter\\nassist\\nyou,\\ndo\\nyou\\nhave\\na\\npreference\\nfor\\na\\nspecific\\noperating\\nsystem\\n(iOS\\nor\\nAndroid)?\\nAdditionally,\\nany\\nfeatures\\nyou\\nprioritize,\\nsuch\\nas\\nheart\\nrate\\nmonitoring,\\nGPS,\\nor\\ncompatibility\\nwith\\nspecific\\nfitness\\napps?\\nUser:\\nI\\nuse\\nan\\nAndroid\\nphone,\\nand\\nheart\\nrate\\nmonitoring\\nand\\nGPS\\nare\\nimportant\\nfeatures\\nfor\\nme.\\nChatbot:\\nGreat\\nchoices!\\nAn\\nAndroid-compatible\\nsmartwatch\\nwith\\nheart\\nrate\\nmonitoring\\nand\\nGPS\\ncapabilities.\\nAny\\npreferences\\nregarding\\nthe\\nwatch's\\ndesign,\\nsuch\\nas\\na\\nsporty\\nlook\\nor\\na\\nmore\\nclassic\\nstyle?\\nAnd,\\ndo\\nyou\\nhave\\na\\npreferred\\nbudget\\nrange?\\nUser:\\nA\\nsporty\\nlook\\nwould\\nbe\\nnice,\\nand\\nmy\\nbudget\\nis\\naround\\n$250.\\nChatbot:\\nExcellent!\\nI'll\\nfocus\\non\\nsporty-looking\\nsmartwatches\\nwith\\nAndroid\\ncompatibility,\\nheart\\nrate\\nmonitoring,\\nand\\nGPS,\\nall\\nwithin\\nyour\\n$250\\nbudget.\\nAny\\nspecific\\nbrand\\npreference\\nor\\nother\\nfeatures\\nyou'd\\nlike,\\nsuch\\nas\\nwater\\nresistance\\nor\\nlong\\nbattery\\nlife?\\nUser:\\nNo\\nspecific\\nbrand\\npreference,\\nbut\\nwater\\nresistance\\nwould\\nbe\\ngreat.\\nChatbot:\\nUnderstood!\\nI'll\\ncompile\\na\\nlist\\nof\\nsmartwatches\\nthat\\nmatch\\nyour\\ncriteria.\\nThis\\nmay\\ntake\\na\\nmoment.\\nThank\\nyou\\nfor\\nproviding\\nyour\\npreferences!\\n[Chatbot\\ntakes\\na\\nmoment\\nto\\ngather\\nrecommendations]\\nChatbot:\\nHere\\nare\\nthree\\nhighly\\nrated\\nsmartwatches\\nwithin\\nyour\\nbudget:\\nGarmin\\nForerunner\\n45\\nAmazfit\\nBip\\nU\\nPro\\nSamsung\\nGalaxy\\nFit\\n2\\nFeel\\nfree\\nto\\nexplore\\neach\\noption\\nfor\\nmore\\ndetails.\\nLet\\nme\\nknow\\nif\\nyou\\nhave\\nspecific\\nquestions\\nor\\nif\\nthere's\\nanything\\nelse\\nI\\ncan\\nassist\\nyou\\nwith!\", metadata={'source': './data/products.pdf', 'page': 4}),\n",
       " Document(page_content=\"User:\\nHi!\\nI'm\\nlooking\\nfor\\na\\nhigh-performance\\nlaptop\\nfor\\ncollege.\\nMy\\nbudget\\nis\\naround\\n$1500.\\nChatbot:\\nGreat!\\nWith\\na\\nhigher\\nbudget,\\nwe\\ncan\\nexplore\\nlaptops\\nwith\\nadvanced\\nfeatures.\\nAre\\nthere\\nspecific\\naspects\\nyou'd\\nlike\\nto\\nprioritize,\\nsuch\\nas\\na\\nmore\\npowerful\\nprocessor,\\ndedicated\\ngraphics\\nfor\\ngaming,\\nor\\na\\nhigher\\nresolution\\ndisplay?\\nUser:\\nI'm\\ninterested\\nin\\na\\npowerful\\nprocessor\\nand\\nmaybe\\ndedicated\\ngraphics\\nfor\\noccasional\\ngaming.\\nChatbot:\\nExcellent!\\nA\\npowerful\\nlaptop\\nwith\\na\\nfocus\\non\\nperformance\\nand\\ngaming\\ncapabilities.\\nAny\\nspecific\\nbrand\\npreference,\\nor\\nshould\\nI\\nconsider\\na\\nvariety\\nof\\nreputable\\nbrands?\\nUser:\\nI'm\\nopen\\nto\\nvarious\\nbrands.\\nChatbot:\\nGot\\nit!\\nI'll\\nlook\\ninto\\nlaptops\\nwith\\npowerful\\nprocessors,\\ndedicated\\ngraphics,\\nand\\na\\nbudget\\naround\\n$1500.\\nAny\\nother\\npreferences,\\nlike\\na\\nlarger\\nscreen\\nsize\\nor\\na\\nsleek\\ndesign?\\nUser:\\nA\\nlarger\\nscreen\\nsize\\nwould\\nbe\\nnice.\\nChatbot:\\nPerfect!\\nI'll\\ncompile\\na\\nlist\\nof\\nhigh-performance\\nlaptops\\nwith\\nlarger\\nscreens\\nand\\nother\\nadvanced\\nfeatures.\\nThis\\nmight\\ntake\\na\\nmoment.\\nThank\\nyou\\nfor\\nproviding\\nyour\\npreferences!\\n[Chatbot\\ntakes\\na\\nmoment\\nto\\ngather\\nrecommendations]\\nChatbot:\\nHere\\nare\\nthree\\nhigh-performance\\nlaptops\\nwithin\\nyour\\n$1500\\nbudget:\\nASUS\\nROG\\nZephyrus\\nG14\\nDell\\nXPS\\n15\\nHP\\nOmen\\n15\\nFeel\\nfree\\nto\\nexplore\\neach\\noption\\nfor\\nmore\\ndetails.\\nLet\\nme\\nknow\\nif\\nyou\\nhave\\nspecific\\nquestions\\nor\\nif\\nthere's\\nanything\\nelse\\nI\\ncan\\nassist\\nyou\\nwith!\", metadata={'source': './data/products.pdf', 'page': 5}),\n",
       " Document(page_content=\"User:\\nI'm\\non\\na\\ntighter\\nbudget\\nand\\nneed\\nnoise-canceling\\nheadphones\\nunder\\n$100.\\nChatbot:\\nAbsolutely!\\nBudget-friendly\\noptions\\nare\\navailable\\nwith\\ngreat\\nfeatures.\\nAre\\nyou\\nlooking\\nfor\\nover-ear\\nor\\nin-ear\\nheadphones?\\nAnd,\\nare\\nthere\\nspecific\\nfeatures\\nyou\\nprioritize\\nwithin\\nthis\\nlower\\nbudget\\nrange?\\nUser:\\nOver-ear\\nheadphones\\nwould\\nbe\\ngreat,\\nand\\nI'm\\nlooking\\nfor\\ndecent\\nsound\\nquality.\\nChatbot:\\nGot\\nit!\\nOver-ear\\nheadphones\\nwith\\ndecent\\nsound\\nquality\\nunder\\n$100.\\nAny\\npreferences\\nregarding\\ncolor\\nor\\ndesign?\\nUser:\\nNo\\nspecific\\npreferences,\\njust\\nlooking\\nfor\\na\\ngood\\ndeal.\\nChatbot:\\nUnderstood!\\nI'll\\nfocus\\non\\nover-ear\\nheadphones\\nwith\\ngood\\nsound\\nquality\\nand\\nbudget-friendly\\nprices.\\nAny\\nadditional\\nfeatures\\nyou'd\\nlike,\\nsuch\\nas\\nfoldable\\ndesign\\nor\\nlong\\nbattery\\nlife?\\nUser:\\nFoldable\\ndesign\\nwould\\nbe\\nconvenient.\\nChatbot:\\nExcellent!\\nI'll\\ncompile\\na\\nlist\\nof\\nbudget-friendly\\nover-ear\\nheadphones\\nwith\\na\\nfoldable\\ndesign.\\nThis\\nmay\\ntake\\na\\nmoment.\\nThank\\nyou\\nfor\\nproviding\\nyour\\npreferences!\\n[Chatbot\\ntakes\\na\\nmoment\\nto\\ngather\\nrecommendations]\\nChatbot:\\nHere\\nare\\nthree\\nhighly\\nrated\\nnoise-canceling\\nheadphones\\nunder\\n$100:\\nAnker\\nSoundcore\\nLife\\nQ20\\nJBL\\nTune\\n750BTNC\\nTaoTronics\\nSoundSurge\\n85\\nFeel\\nfree\\nto\\nexplore\\neach\\noption\\nfor\\nmore\\ndetails.\\nLet\\nme\\nknow\\nif\\nyou\\nhave\\nspecific\\nquestions\\nor\\nif\\nthere's\\nanything\\nelse\\nI\\ncan\\nassist\\nyou\\nwith!\", metadata={'source': './data/products.pdf', 'page': 6}),\n",
       " Document(page_content=\"User:\\nI'm\\nwilling\\nto\\ninvest\\nin\\na\\nhigh-quality\\nsmartwatch\\nfor\\nfitness.\\nMy\\nbudget\\nis\\naround\\n$400.\\nChatbot:\\nExcellent!\\nWith\\na\\nhigher\\nbudget,\\nwe\\ncan\\nexplore\\npremium\\nsmartwatches\\nwith\\nadvanced\\nfitness\\nfeatures.\\nAny\\nspecific\\nfitness\\nmetrics\\nyou\\nprioritize,\\nsuch\\nas\\nECG\\nmonitoring,\\nblood\\noxygen\\nlevels,\\nor\\nadvanced\\nworkout\\ntracking?\\nUser:\\nECG\\nmonitoring\\nand\\nadvanced\\nworkout\\ntracking\\nwould\\nbe\\ngreat.\\nChatbot:\\nGreat\\nchoices!\\nA\\npremium\\nsmartwatch\\nwith\\nECG\\nmonitoring,\\nadvanced\\nworkout\\ntracking,\\nand\\na\\nbudget\\naround\\n$400.\\nAny\\npreferences\\nregarding\\nthe\\nwatch's\\ndesign\\nor\\ncompatibility\\nwith\\nspecific\\nfitness\\napps?\\nUser:\\nA\\nsleek\\ndesign\\nwould\\nbe\\nnice,\\nand\\ncompatibility\\nwith\\npopular\\nfitness\\napps\\nis\\nimportant.\\nChatbot:\\nUnderstood!\\nI'll\\nfocus\\non\\npremium\\nsmartwatches\\nwith\\nsleek\\ndesigns,\\nECG\\nmonitoring,\\nand\\ncompatibility\\nwith\\npopular\\nfitness\\napps.\\nAny\\nspecific\\nbrand\\npreference?\\nUser:\\nNo\\nspecific\\npreference,\\nbut\\nreputable\\nbrands\\nare\\npreferred.\\nChatbot:\\nPerfect!\\nI'll\\ncompile\\na\\nlist\\nof\\npremium\\nsmartwatches\\nthat\\nmatch\\nyour\\ncriteria.\\nThis\\nmay\\ntake\\na\\nmoment.\\nThank\\nyou\\nfor\\nproviding\\nyour\\npreferences!\\n[Chatbot\\ntakes\\na\\nmoment\\nto\\ngather\\nrecommendations]\\nChatbot:\\nHere\\nare\\nthree\\nhighly\\nrated\\nsmartwatches\\nwithin\\nyour\\n$400\\nbudget:\\nApple\\nWatch\\nSeries\\n6\\nGarmin\\nVenu\\n2\\nSamsung\\nGalaxy\\nWatch\\n4\\nFeel\\nfree\\nto\\nexplore\\neach\\noption\\nfor\\nmore\\ndetails.\\nLet\\nme\\nknow\\nif\\nyou\\nhave\\nspecific\\nquestions\\nor\\nif\\nthere's\\nanything\\nelse\\nI\\ncan\\nassist\\nyou\\nwith!\\nFeel\\nfree\\nto\\nask\\nfor\\nfurther\\nrecommendations\\nor\\ndetails!\", metadata={'source': './data/products.pdf', 'page': 7}),\n",
       " Document(page_content='High\\npriority\\nrecommendations:\\nProduct\\nName\\nDescription\\nAttributes\\nPrice\\nRange\\n($)\\nRecommendatio\\nns\\nSneakers\\nStylish\\nand\\ntrendy\\nsneakers\\nfor\\neveryday\\nwear.\\nBrand,\\nsize,\\ncolor,\\nmaterial\\n$50\\n-\\n$150\\nNike\\nAir\\nForce\\n1,\\nAdidas\\nStan\\nSmith,\\nConverse\\nChuck\\nTaylor\\nAll-Stars,\\nVans\\nOld\\nSkool,\\nNew\\nBalance\\n574\\nBackpacks\\nDurable\\nand\\nspacious\\nbackpacks\\nfor\\nschool\\nor\\ntravel.\\nBrand,\\nsize,\\ncolor,\\ncompartments\\n$30\\n-\\n$100\\nJanSport\\nBig\\nStudent,\\nNorth\\nFace\\nJester,\\nHerschel\\nLittle\\nAmerica,\\nPatagonia\\nArbor\\nDay\\nPack,\\nFjallraven\\nKanken\\nLaptops\\nLightweight\\nand\\nportable\\nlaptops\\nfor\\nschoolwork\\nor\\nentertainment.\\nBrand,\\nscreen\\nsize,\\nprocessor,\\noperating\\nsystem\\n$300\\n-\\n$1500\\nApple\\nMacBook\\nAir,\\nHP\\nSpectre\\nx360,\\nMicrosoft\\nSurface\\nLaptop\\nGo,\\nDell\\nXPS\\n13,\\nLenovo\\nChromebook\\nFlex\\n5\\nTVs\\nSmart\\nTVs\\nwith\\nhigh-definition\\npicture\\nquality\\nand\\nstreaming\\ncapabilities.\\nBrand,\\nscreen\\nsize,\\nresolution,\\nsmart\\nfeatures\\n$200\\n-\\n$1000\\nSamsung\\nQLED\\nQ70A,\\nLG\\nC2\\nOLED,\\nVizio\\nP-Series\\nQuantum\\nX,\\nHisense\\nU8G,\\nTCL\\n5\\nSeries', metadata={'source': './data/products.pdf', 'page': 8}),\n",
       " Document(page_content='Headphones\\nWireless\\nheadphones\\nwith\\nnoise-canceling\\ntechnology\\nfor\\nlistening\\nto\\nmusic\\nand\\ngaming.\\nBrand,\\nconnection\\ntype,\\nsound\\nquality,\\nbattery\\nlife\\n$50\\n-\\n$300\\nSony\\nWH-1000XM4,\\nApple\\nAirPods\\nMax,\\nBose\\nQuietComfort\\n35\\nII,\\nSennheiser\\nMomentum\\n3\\nWireless,\\nAnker\\nSoundcore\\nLife\\nQ30\\nGaming\\nConsoles\\nNext-generatio\\nn\\ngaming\\nconsoles\\nwith\\npowerful\\nhardware\\nand\\nimmersive\\ngameplay.\\nBrand,\\nmodel,\\ngames,\\naccessories\\n$300\\n-\\n$500\\nPlayStation\\n5,\\nXbox\\nSeries\\nX,\\nNintendo\\nSwitch\\nOLED\\nSmartphones\\nLatest\\nsmartphones\\nwith\\nadvanced\\nfeatures\\nand\\nsleek\\ndesigns.\\nBrand,\\nmodel,\\nstorage\\ncapacity,\\ncamera\\nspecs,\\nbattery\\nlife\\n$400\\n-\\n$1200\\nApple\\niPhone\\n14\\nPro,\\nSamsung\\nGalaxy\\nS22\\nUltra,\\nGoogle\\nPixel\\n7\\nPro,\\nOnePlus\\n10\\nPro,\\nXiaomi\\n12S\\nUltra\\nTablets\\nPortable\\ntablets\\nfor\\nbrowsing\\nthe\\ninternet,\\nwatching\\nvideos,\\nand\\nplaying\\ngames.\\nBrand,\\nmodel,\\nscreen\\nsize,\\nprocessor,\\noperating\\nsystem\\n$100\\n-\\n$500\\nApple\\niPad\\nAir,\\nSamsung\\nGalaxy\\nTab\\nS8,\\nMicrosoft\\nSurface\\nGo\\n3,\\nAmazon\\nFire\\nHD\\n10\\nPlus,\\nLenovo\\nTab\\nM10\\nPlus\\nWireless\\nSpeakers\\nPortable\\nand\\npowerful\\nwireless\\nspeakers\\nfor\\nlistening\\nto\\nmusic\\noutdoors\\nor\\nat\\nhome.\\nBrand,\\nsize,\\nsound\\nquality,\\nbattery\\nlife\\n$50\\n-\\n$200\\nJBL\\nFlip\\n5,\\nUltimate\\nEars\\nMEGABOOM\\n3,\\nAnker\\nSoundcore\\nFlare\\n2,\\nSony\\nSRS-XB43,\\nBose\\nSoundLink\\nMicro', metadata={'source': './data/products.pdf', 'page': 9}),\n",
       " Document(page_content=\"Fitness\\nTrackers\\nFitness\\ntrackers\\nthat\\nmonitor\\nsteps,\\nheart\\nrate,\\nsleep,\\nand\\nother\\nfitness\\nmetrics.\\nBrand,\\nmodel,\\nfeatures,\\nbattery\\nlife\\n$50\\n-\\n$200\\nFitbit\\nCharge\\n5,\\nGarmin\\nVivosmart\\n5,\\nSamsung\\nGalaxy\\nFit2\\nPro,\\nXiaomi\\nMi\\nBand\\n7,\\nAmazfit\\nBip\\n3\\nLow\\npriority\\nrecommendations:\\nProduct\\nName\\nDescription\\nAttributes\\nPrice\\nRange\\n($)\\nExamples\\nSneakers\\nStylish\\nand\\ntrendy\\nsneakers\\nfor\\neveryday\\nwear.\\nBrand,\\nsize,\\ncolor,\\nmaterial\\n$50\\n-\\n$150\\nVeja\\nV-10,\\nAdidas\\nOriginals\\nSuperstar,\\nConverse\\nChuck\\n70,\\nPuma\\nCali\\nStar,\\nVans\\nOld\\nSkool\\nPlatform\\nBackpacks\\nDurable\\nand\\nspacious\\nbackpacks\\nfor\\nschool\\nor\\ntravel.\\nBrand,\\nsize,\\ncolor,\\ncompartments\\n$30\\n-\\n$100\\nPatagonia\\nRefugio\\nPack,\\nHerschel\\nNova\\nBackpack,\\nThe\\nNorth\\nFace\\nBase\\nCamp\\nDuffel,\\nFjallraven\\nKanken\\nMini,\\nEastpak\\nPadded\\nPak'r\\nBackpack\\nLaptops\\nLightweight\\nand\\nportable\\nlaptops\\nfor\\nschoolwork\\nor\\nentertainment.\\nBrand,\\nscreen\\nsize,\\nprocessor,\\noperating\\nsystem\\n$300\\n-\\n$1500\\nMicrosoft\\nSurface\\nLaptop\\n4,\\nAsus\\nZenBook\\n13,\\nDell\\nInspiron\\n14\\n5000,\\nAcer\\nSwift\\n3,\\nHP\\nPavilion\\n15\", metadata={'source': './data/products.pdf', 'page': 10}),\n",
       " Document(page_content='TVs\\nSmart\\nTVs\\nwith\\nhigh-definition\\npicture\\nquality\\nand\\nstreaming\\ncapabilities.\\nBrand,\\nscreen\\nsize,\\nresolution,\\nsmart\\nfeatures\\n$200\\n-\\n$1000\\nTCL\\n5\\nSeries\\nRoku\\nTV,\\nHisense\\nU7G,\\nSamsung\\nThe\\nFrame,\\nLG\\nC1\\nOLED,\\nSony\\nX90J\\nHeadphones\\nWireless\\nheadphones\\nwith\\nnoise-canceling\\ntechnology\\nfor\\nlistening\\nto\\nmusic\\nand\\ngaming.\\nBrand,\\nconnection\\ntype,\\nsound\\nquality,\\nbattery\\nlife\\n$50\\n-\\n$300\\nSony\\nWH-CH710N,\\nSennheiser\\nHD\\n450BT,\\nAnker\\nSoundcore\\nLife\\nQ35,\\nApple\\nAirPods\\nPro,\\nBose\\nQuietComfort\\nEarbuds\\nGaming\\nConsoles\\nNext-generatio\\nn\\ngaming\\nconsoles\\nwith\\npowerful\\nhardware\\nand\\nimmersive\\ngameplay.\\nBrand,\\nmodel,\\ngames,\\naccessories\\n$300\\n-\\n$500\\nNintendo\\nSwitch\\nLite,\\nValve\\nSteam\\nDeck,\\nXbox\\nSeries\\nS,\\nSony\\nPlayStation\\n4\\nPro\\nSmartphones\\nLatest\\nsmartphones\\nwith\\nadvanced\\nfeatures\\nand\\nsleek\\ndesigns.\\nBrand,\\nmodel,\\nstorage\\ncapacity,\\ncamera\\nspecs,\\nbattery\\nlife\\n$400\\n-\\n$1200\\nGoogle\\nPixel\\n6a,\\nNothing\\nPhone\\n(1),\\nSamsung\\nGalaxy\\nA53\\n5G,\\nApple\\niPhone\\nSE\\n(3rd\\ngen),\\nOnePlus\\nNord\\nN20\\n5G\\nTablets\\nPortable\\ntablets\\nfor\\nbrowsing\\nthe\\ninternet,\\nwatching\\nvideos,\\nand\\nplaying\\ngames.\\nBrand,\\nmodel,\\nscreen\\nsize,\\nprocessor,\\noperating\\nsystem\\n$100\\n-\\n$500\\nAmazon\\nFire\\nHD\\n8\\nPlus,\\nLenovo\\nTab\\nM8\\nHD,\\nSamsung\\nGalaxy\\nTab\\nA7\\nLite,\\nHuawei\\nMatePad\\nT\\n10s,\\nMicrosoft\\nSurface\\nGo\\n2', metadata={'source': './data/products.pdf', 'page': 11})]"
      ]
     },
     "execution_count": 66,
     "metadata": {},
     "output_type": "execute_result"
    }
   ],
   "source": [
    "docs"
   ]
  },
  {
   "cell_type": "code",
   "execution_count": 67,
   "id": "0e8fc611-1bb2-4cb2-885d-b59f19143254",
   "metadata": {},
   "outputs": [
    {
     "data": {
      "text/plain": [
       "12"
      ]
     },
     "execution_count": 67,
     "metadata": {},
     "output_type": "execute_result"
    }
   ],
   "source": [
    "len(docs)"
   ]
  },
  {
   "cell_type": "markdown",
   "id": "9011fb64-9314-4d61-b060-ca75c2d13f5a",
   "metadata": {},
   "source": []
  },
  {
   "cell_type": "code",
   "execution_count": 68,
   "id": "534753cb-3568-4601-964d-892d4e9c773b",
   "metadata": {},
   "outputs": [],
   "source": [
    "from langchain.vectorstores import FAISS"
   ]
  },
  {
   "cell_type": "code",
   "execution_count": 69,
   "id": "7adc196a-bebd-4992-be15-7608a4f4ea6c",
   "metadata": {},
   "outputs": [],
   "source": [
    "db = FAISS.from_documents(docs, embeddings)"
   ]
  },
  {
   "cell_type": "code",
   "execution_count": 72,
   "id": "5686e20d-7368-47b1-a539-6e3c2c6c163f",
   "metadata": {},
   "outputs": [
    {
     "data": {
      "text/plain": [
       "[Document(page_content=\"Product\\nRecommendation\\nChatbots\\nfor\\nan\\nOnline\\nFashion\\nRetailer\\nUser:\\nHi\\nthere!\\nI'm\\nlooking\\nfor\\na\\nnew\\npair\\nof\\nrunning\\nshoes.\\nCan\\nyou\\nhelp\\nme\\nfind\\nsome\\noptions?\\nChatbot:\\nOf\\ncourse!\\nI'd\\nbe\\nhappy\\nto\\nassist\\nyou\\nin\\nfinding\\nthe\\nperfect\\nrunning\\nshoes.\\nTo\\nnarrow\\ndown\\nthe\\noptions,\\ncould\\nyou\\nplease\\nprovide\\nsome\\nadditional\\ninformation?\\nWhat's\\nyour\\npreferred\\nbrand,\\nand\\ndo\\nyou\\nhave\\na\\nspecific\\nbudget\\nin\\nmind?\\nUser:\\nI'm\\nopen\\nto\\ndifferent\\nbrands,\\nand\\nmy\\nbudget\\nis\\naround\\n$100.\\nI\\nusually\\nrun\\non\\nboth\\ntrails\\nand\\npavement.\\nChatbot:\\nGreat!\\nConsidering\\nyour\\nbudget\\nand\\npreference\\nfor\\nversatile\\nrunning\\nshoes,\\ndo\\nyou\\nhave\\nany\\nspecific\\ncolor\\npreferences?\\nAlso,\\nare\\nyou\\nlooking\\nfor\\nshoes\\nwith\\nspecific\\nfeatures,\\nsuch\\nas\\nextra\\ncushioning,\\nstability,\\nor\\nlightweight\\ndesign?\\nUser:\\nI\\nprefer\\nneutral\\ncolors,\\nand\\nlightweight\\nshoes\\nwould\\nbe\\nideal.\\nAlso,\\ngood\\narch\\nsupport\\nis\\nimportant\\nfor\\nme.\\nChatbot:\\nNoted!\\nNeutral\\ncolors\\nand\\nlightweight\\ndesign\\nwith\\ngood\\narch\\nsupport.\\nIs\\nthere\\na\\nparticular\\nsize\\nyou\\nusually\\nwear,\\nor\\nwould\\nyou\\nlike\\nsome\\nrecommendations\\nbased\\non\\ncustomer\\nreviews\\nand\\nratings?\\nUser:\\nI\\nwear\\na\\nsize\\n9,\\nand\\nyes,\\nI'd\\nlike\\nto\\nsee\\nsome\\ntop-rated\\noptions.\\nChatbot:\\nPerfect!\\nI'll\\nfilter\\nthe\\noptions\\nfor\\nsize\\n9\\nand\\nfocus\\non\\ntop-rated\\nrunning\\nshoes.\\nJust\\nto\\nconfirm,\\nare\\nyou\\ninterested\\nin\\nany\\nspecific\\nbrands,\\nor\\nshould\\nI\\ninclude\\na\\nvariety\\nof\\nreputable\\nbrands\\nin\\nthe\\nrecommendations?\\nUser:\\nI'm\\nopen\\nto\\nreputable\\nbrands.\\nJust\\nlooking\\nfor\\nquality\\nand\\ncomfort.\\nChatbot:\\nUnderstood!\\nI'll\\ncompile\\na\\nlist\\nof\\ntop-rated,\\nneutral-colored,\\nlightweight\\nrunning\\nshoes\\nwith\\ngood\\narch\\nsupport,\\nall\\nwithin\\nthe\\n$100\\nbudget.\\nThis\\nmight\\ntake\\na\\nmoment.\\nThank\\nyou\\nfor\\nyour\\npreferences!\\n[Chatbot\\ntakes\\na\\nmoment\\nto\\ngather\\nrecommendations]\\nChatbot:\\nHere\\nare\\nthree\\nhighly\\nrated\\noptions\\nthat\\nmatch\\nyour\\ncriteria:\\nNike\\nAir\\nZoom\\nPegasus\\n38\\nBrooks\\nGhost\\n14\", metadata={'source': './data/products.pdf', 'page': 0}),\n",
       " Document(page_content=\"User:\\nI'm\\na\\nfitness\\nenthusiast\\nand\\nneed\\na\\nsmartwatch\\nfor\\ntracking\\nworkouts.\\nWhat's\\na\\ngood\\noption?\\nChatbot:\\nAbsolutely!\\nSmartwatches\\ncan\\nbe\\nexcellent\\nfitness\\ncompanions.\\nTo\\nbetter\\nassist\\nyou,\\ndo\\nyou\\nhave\\na\\npreference\\nfor\\na\\nspecific\\noperating\\nsystem\\n(iOS\\nor\\nAndroid)?\\nAdditionally,\\nany\\nfeatures\\nyou\\nprioritize,\\nsuch\\nas\\nheart\\nrate\\nmonitoring,\\nGPS,\\nor\\ncompatibility\\nwith\\nspecific\\nfitness\\napps?\\nUser:\\nI\\nuse\\nan\\nAndroid\\nphone,\\nand\\nheart\\nrate\\nmonitoring\\nand\\nGPS\\nare\\nimportant\\nfeatures\\nfor\\nme.\\nChatbot:\\nGreat\\nchoices!\\nAn\\nAndroid-compatible\\nsmartwatch\\nwith\\nheart\\nrate\\nmonitoring\\nand\\nGPS\\ncapabilities.\\nAny\\npreferences\\nregarding\\nthe\\nwatch's\\ndesign,\\nsuch\\nas\\na\\nsporty\\nlook\\nor\\na\\nmore\\nclassic\\nstyle?\\nAnd,\\ndo\\nyou\\nhave\\na\\npreferred\\nbudget\\nrange?\\nUser:\\nA\\nsporty\\nlook\\nwould\\nbe\\nnice,\\nand\\nmy\\nbudget\\nis\\naround\\n$250.\\nChatbot:\\nExcellent!\\nI'll\\nfocus\\non\\nsporty-looking\\nsmartwatches\\nwith\\nAndroid\\ncompatibility,\\nheart\\nrate\\nmonitoring,\\nand\\nGPS,\\nall\\nwithin\\nyour\\n$250\\nbudget.\\nAny\\nspecific\\nbrand\\npreference\\nor\\nother\\nfeatures\\nyou'd\\nlike,\\nsuch\\nas\\nwater\\nresistance\\nor\\nlong\\nbattery\\nlife?\\nUser:\\nNo\\nspecific\\nbrand\\npreference,\\nbut\\nwater\\nresistance\\nwould\\nbe\\ngreat.\\nChatbot:\\nUnderstood!\\nI'll\\ncompile\\na\\nlist\\nof\\nsmartwatches\\nthat\\nmatch\\nyour\\ncriteria.\\nThis\\nmay\\ntake\\na\\nmoment.\\nThank\\nyou\\nfor\\nproviding\\nyour\\npreferences!\\n[Chatbot\\ntakes\\na\\nmoment\\nto\\ngather\\nrecommendations]\\nChatbot:\\nHere\\nare\\nthree\\nhighly\\nrated\\nsmartwatches\\nwithin\\nyour\\nbudget:\\nGarmin\\nForerunner\\n45\\nAmazfit\\nBip\\nU\\nPro\\nSamsung\\nGalaxy\\nFit\\n2\\nFeel\\nfree\\nto\\nexplore\\neach\\noption\\nfor\\nmore\\ndetails.\\nLet\\nme\\nknow\\nif\\nyou\\nhave\\nspecific\\nquestions\\nor\\nif\\nthere's\\nanything\\nelse\\nI\\ncan\\nassist\\nyou\\nwith!\", metadata={'source': './data/products.pdf', 'page': 4})]"
      ]
     },
     "execution_count": 72,
     "metadata": {},
     "output_type": "execute_result"
    }
   ],
   "source": [
    "docs = db.similarity_search(\"Hi there! I'm looking for a new pair of running shoes. Can you help me find some options?\", k=2)\n",
    "docs"
   ]
  },
  {
   "cell_type": "code",
   "execution_count": 70,
   "id": "b7c154dd-d993-4902-a6ee-8164590ad1c5",
   "metadata": {},
   "outputs": [],
   "source": [
    "# Create a retriever for querying the vector database\n",
    "retriever = db.as_retriever(score_threshold = 0.7)"
   ]
  },
  {
   "cell_type": "code",
   "execution_count": 71,
   "id": "737f5506-a788-456b-82ee-5ff7547c0627",
   "metadata": {},
   "outputs": [
    {
     "data": {
      "text/plain": [
       "[Document(page_content=\"Product\\nRecommendation\\nChatbots\\nfor\\nan\\nOnline\\nFashion\\nRetailer\\nUser:\\nHi\\nthere!\\nI'm\\nlooking\\nfor\\na\\nnew\\npair\\nof\\nrunning\\nshoes.\\nCan\\nyou\\nhelp\\nme\\nfind\\nsome\\noptions?\\nChatbot:\\nOf\\ncourse!\\nI'd\\nbe\\nhappy\\nto\\nassist\\nyou\\nin\\nfinding\\nthe\\nperfect\\nrunning\\nshoes.\\nTo\\nnarrow\\ndown\\nthe\\noptions,\\ncould\\nyou\\nplease\\nprovide\\nsome\\nadditional\\ninformation?\\nWhat's\\nyour\\npreferred\\nbrand,\\nand\\ndo\\nyou\\nhave\\na\\nspecific\\nbudget\\nin\\nmind?\\nUser:\\nI'm\\nopen\\nto\\ndifferent\\nbrands,\\nand\\nmy\\nbudget\\nis\\naround\\n$100.\\nI\\nusually\\nrun\\non\\nboth\\ntrails\\nand\\npavement.\\nChatbot:\\nGreat!\\nConsidering\\nyour\\nbudget\\nand\\npreference\\nfor\\nversatile\\nrunning\\nshoes,\\ndo\\nyou\\nhave\\nany\\nspecific\\ncolor\\npreferences?\\nAlso,\\nare\\nyou\\nlooking\\nfor\\nshoes\\nwith\\nspecific\\nfeatures,\\nsuch\\nas\\nextra\\ncushioning,\\nstability,\\nor\\nlightweight\\ndesign?\\nUser:\\nI\\nprefer\\nneutral\\ncolors,\\nand\\nlightweight\\nshoes\\nwould\\nbe\\nideal.\\nAlso,\\ngood\\narch\\nsupport\\nis\\nimportant\\nfor\\nme.\\nChatbot:\\nNoted!\\nNeutral\\ncolors\\nand\\nlightweight\\ndesign\\nwith\\ngood\\narch\\nsupport.\\nIs\\nthere\\na\\nparticular\\nsize\\nyou\\nusually\\nwear,\\nor\\nwould\\nyou\\nlike\\nsome\\nrecommendations\\nbased\\non\\ncustomer\\nreviews\\nand\\nratings?\\nUser:\\nI\\nwear\\na\\nsize\\n9,\\nand\\nyes,\\nI'd\\nlike\\nto\\nsee\\nsome\\ntop-rated\\noptions.\\nChatbot:\\nPerfect!\\nI'll\\nfilter\\nthe\\noptions\\nfor\\nsize\\n9\\nand\\nfocus\\non\\ntop-rated\\nrunning\\nshoes.\\nJust\\nto\\nconfirm,\\nare\\nyou\\ninterested\\nin\\nany\\nspecific\\nbrands,\\nor\\nshould\\nI\\ninclude\\na\\nvariety\\nof\\nreputable\\nbrands\\nin\\nthe\\nrecommendations?\\nUser:\\nI'm\\nopen\\nto\\nreputable\\nbrands.\\nJust\\nlooking\\nfor\\nquality\\nand\\ncomfort.\\nChatbot:\\nUnderstood!\\nI'll\\ncompile\\na\\nlist\\nof\\ntop-rated,\\nneutral-colored,\\nlightweight\\nrunning\\nshoes\\nwith\\ngood\\narch\\nsupport,\\nall\\nwithin\\nthe\\n$100\\nbudget.\\nThis\\nmight\\ntake\\na\\nmoment.\\nThank\\nyou\\nfor\\nyour\\npreferences!\\n[Chatbot\\ntakes\\na\\nmoment\\nto\\ngather\\nrecommendations]\\nChatbot:\\nHere\\nare\\nthree\\nhighly\\nrated\\noptions\\nthat\\nmatch\\nyour\\ncriteria:\\nNike\\nAir\\nZoom\\nPegasus\\n38\\nBrooks\\nGhost\\n14\", metadata={'source': './data/products.pdf', 'page': 0}),\n",
       " Document(page_content=\"Fitness\\nTrackers\\nFitness\\ntrackers\\nthat\\nmonitor\\nsteps,\\nheart\\nrate,\\nsleep,\\nand\\nother\\nfitness\\nmetrics.\\nBrand,\\nmodel,\\nfeatures,\\nbattery\\nlife\\n$50\\n-\\n$200\\nFitbit\\nCharge\\n5,\\nGarmin\\nVivosmart\\n5,\\nSamsung\\nGalaxy\\nFit2\\nPro,\\nXiaomi\\nMi\\nBand\\n7,\\nAmazfit\\nBip\\n3\\nLow\\npriority\\nrecommendations:\\nProduct\\nName\\nDescription\\nAttributes\\nPrice\\nRange\\n($)\\nExamples\\nSneakers\\nStylish\\nand\\ntrendy\\nsneakers\\nfor\\neveryday\\nwear.\\nBrand,\\nsize,\\ncolor,\\nmaterial\\n$50\\n-\\n$150\\nVeja\\nV-10,\\nAdidas\\nOriginals\\nSuperstar,\\nConverse\\nChuck\\n70,\\nPuma\\nCali\\nStar,\\nVans\\nOld\\nSkool\\nPlatform\\nBackpacks\\nDurable\\nand\\nspacious\\nbackpacks\\nfor\\nschool\\nor\\ntravel.\\nBrand,\\nsize,\\ncolor,\\ncompartments\\n$30\\n-\\n$100\\nPatagonia\\nRefugio\\nPack,\\nHerschel\\nNova\\nBackpack,\\nThe\\nNorth\\nFace\\nBase\\nCamp\\nDuffel,\\nFjallraven\\nKanken\\nMini,\\nEastpak\\nPadded\\nPak'r\\nBackpack\\nLaptops\\nLightweight\\nand\\nportable\\nlaptops\\nfor\\nschoolwork\\nor\\nentertainment.\\nBrand,\\nscreen\\nsize,\\nprocessor,\\noperating\\nsystem\\n$300\\n-\\n$1500\\nMicrosoft\\nSurface\\nLaptop\\n4,\\nAsus\\nZenBook\\n13,\\nDell\\nInspiron\\n14\\n5000,\\nAcer\\nSwift\\n3,\\nHP\\nPavilion\\n15\", metadata={'source': './data/products.pdf', 'page': 10}),\n",
       " Document(page_content=\"User:\\nI'm\\non\\na\\ntighter\\nbudget\\nand\\nneed\\nnoise-canceling\\nheadphones\\nunder\\n$100.\\nChatbot:\\nAbsolutely!\\nBudget-friendly\\noptions\\nare\\navailable\\nwith\\ngreat\\nfeatures.\\nAre\\nyou\\nlooking\\nfor\\nover-ear\\nor\\nin-ear\\nheadphones?\\nAnd,\\nare\\nthere\\nspecific\\nfeatures\\nyou\\nprioritize\\nwithin\\nthis\\nlower\\nbudget\\nrange?\\nUser:\\nOver-ear\\nheadphones\\nwould\\nbe\\ngreat,\\nand\\nI'm\\nlooking\\nfor\\ndecent\\nsound\\nquality.\\nChatbot:\\nGot\\nit!\\nOver-ear\\nheadphones\\nwith\\ndecent\\nsound\\nquality\\nunder\\n$100.\\nAny\\npreferences\\nregarding\\ncolor\\nor\\ndesign?\\nUser:\\nNo\\nspecific\\npreferences,\\njust\\nlooking\\nfor\\na\\ngood\\ndeal.\\nChatbot:\\nUnderstood!\\nI'll\\nfocus\\non\\nover-ear\\nheadphones\\nwith\\ngood\\nsound\\nquality\\nand\\nbudget-friendly\\nprices.\\nAny\\nadditional\\nfeatures\\nyou'd\\nlike,\\nsuch\\nas\\nfoldable\\ndesign\\nor\\nlong\\nbattery\\nlife?\\nUser:\\nFoldable\\ndesign\\nwould\\nbe\\nconvenient.\\nChatbot:\\nExcellent!\\nI'll\\ncompile\\na\\nlist\\nof\\nbudget-friendly\\nover-ear\\nheadphones\\nwith\\na\\nfoldable\\ndesign.\\nThis\\nmay\\ntake\\na\\nmoment.\\nThank\\nyou\\nfor\\nproviding\\nyour\\npreferences!\\n[Chatbot\\ntakes\\na\\nmoment\\nto\\ngather\\nrecommendations]\\nChatbot:\\nHere\\nare\\nthree\\nhighly\\nrated\\nnoise-canceling\\nheadphones\\nunder\\n$100:\\nAnker\\nSoundcore\\nLife\\nQ20\\nJBL\\nTune\\n750BTNC\\nTaoTronics\\nSoundSurge\\n85\\nFeel\\nfree\\nto\\nexplore\\neach\\noption\\nfor\\nmore\\ndetails.\\nLet\\nme\\nknow\\nif\\nyou\\nhave\\nspecific\\nquestions\\nor\\nif\\nthere's\\nanything\\nelse\\nI\\ncan\\nassist\\nyou\\nwith!\", metadata={'source': './data/products.pdf', 'page': 6}),\n",
       " Document(page_content='High\\npriority\\nrecommendations:\\nProduct\\nName\\nDescription\\nAttributes\\nPrice\\nRange\\n($)\\nRecommendatio\\nns\\nSneakers\\nStylish\\nand\\ntrendy\\nsneakers\\nfor\\neveryday\\nwear.\\nBrand,\\nsize,\\ncolor,\\nmaterial\\n$50\\n-\\n$150\\nNike\\nAir\\nForce\\n1,\\nAdidas\\nStan\\nSmith,\\nConverse\\nChuck\\nTaylor\\nAll-Stars,\\nVans\\nOld\\nSkool,\\nNew\\nBalance\\n574\\nBackpacks\\nDurable\\nand\\nspacious\\nbackpacks\\nfor\\nschool\\nor\\ntravel.\\nBrand,\\nsize,\\ncolor,\\ncompartments\\n$30\\n-\\n$100\\nJanSport\\nBig\\nStudent,\\nNorth\\nFace\\nJester,\\nHerschel\\nLittle\\nAmerica,\\nPatagonia\\nArbor\\nDay\\nPack,\\nFjallraven\\nKanken\\nLaptops\\nLightweight\\nand\\nportable\\nlaptops\\nfor\\nschoolwork\\nor\\nentertainment.\\nBrand,\\nscreen\\nsize,\\nprocessor,\\noperating\\nsystem\\n$300\\n-\\n$1500\\nApple\\nMacBook\\nAir,\\nHP\\nSpectre\\nx360,\\nMicrosoft\\nSurface\\nLaptop\\nGo,\\nDell\\nXPS\\n13,\\nLenovo\\nChromebook\\nFlex\\n5\\nTVs\\nSmart\\nTVs\\nwith\\nhigh-definition\\npicture\\nquality\\nand\\nstreaming\\ncapabilities.\\nBrand,\\nscreen\\nsize,\\nresolution,\\nsmart\\nfeatures\\n$200\\n-\\n$1000\\nSamsung\\nQLED\\nQ70A,\\nLG\\nC2\\nOLED,\\nVizio\\nP-Series\\nQuantum\\nX,\\nHisense\\nU8G,\\nTCL\\n5\\nSeries', metadata={'source': './data/products.pdf', 'page': 8})]"
      ]
     },
     "execution_count": 71,
     "metadata": {},
     "output_type": "execute_result"
    }
   ],
   "source": [
    "rdocs = retriever.get_relevant_documents(\"I'm open to different brands, and my budget is around $100. I usually run on both trails and pavement.\")\n",
    "rdocs"
   ]
  },
  {
   "cell_type": "markdown",
   "id": "f3a51d66-73bc-41a1-9981-fca90f71cbad",
   "metadata": {},
   "source": [
    "###  Prompting"
   ]
  },
  {
   "cell_type": "code",
   "execution_count": 47,
   "id": "a5a28e21-11d1-4265-8d7b-91ce9a7ad469",
   "metadata": {},
   "outputs": [],
   "source": [
    "from langchain.chains import RetrievalQA"
   ]
  },
  {
   "cell_type": "code",
   "execution_count": 48,
   "id": "fab210ca-3787-4c53-86de-ec22d5133875",
   "metadata": {},
   "outputs": [],
   "source": [
    "from langchain.prompts import PromptTemplate\n",
    "\n",
    "prompt_template = \"\"\"Given the following context and a question, generate an answer based on this context only.\n",
    "In the answer try to provide as much text as possible from \"response\" section in the source document context without making much changes.\n",
    "If the answer is not found in the context, kindly state \"I don't know.\" Don't try to make up an answer.\n",
    "\n",
    "CONTEXT: {context}\n",
    "\n",
    "QUESTION: {question}\"\"\"\n",
    "\n",
    "\n",
    "PROMPT = PromptTemplate(\n",
    "    template=prompt_template, input_variables=[\"context\", \"question\"]\n",
    ")\n",
    "chain_type_kwargs = {\"prompt\": PROMPT}"
   ]
  },
  {
   "cell_type": "code",
   "execution_count": 73,
   "id": "873a8323-e089-4b50-8970-9711da98659d",
   "metadata": {},
   "outputs": [],
   "source": [
    "chain = RetrievalQA.from_chain_type(llm=llm,\n",
    "                            chain_type=\"stuff\", #map-reduced\n",
    "                            retriever=retriever,\n",
    "                            input_key=\"query\",\n",
    "                            return_source_documents=False,\n",
    "                            chain_type_kwargs=chain_type_kwargs) "
   ]
  },
  {
   "cell_type": "code",
   "execution_count": 74,
   "id": "8a0fc239-adf3-49d9-8cdc-f618cf4584d8",
   "metadata": {},
   "outputs": [
    {
     "data": {
      "text/plain": [
       "{'query': \"I'm open to different brands, and my budget is around $100. I usually run on both trails and pavement\",\n",
       " 'result': '. What kind of running shoes do you recommend?\\n\\nChatbot: Considering your budget and preference for versatile running shoes, I can recommend the Nike Air Zoom Pegasus 38, Brooks Ghost 14, and Fitness Trackers Fitness trackers that monitor steps, heart rate, sleep, and other fitness metrics. All of these options are within the $100 budget and have great customer reviews. Do you have any specific color preferences? Also, are you looking for shoes with specific features, such as extra cushioning, stability, or lightweight design?'}"
      ]
     },
     "execution_count": 74,
     "metadata": {},
     "output_type": "execute_result"
    }
   ],
   "source": [
    "chain(\"I'm open to different brands, and my budget is around $100. I usually run on both trails and pavement\")"
   ]
  },
  {
   "cell_type": "code",
   "execution_count": null,
   "id": "bf2f7081-a3a3-4d54-9509-8cc19c79e592",
   "metadata": {},
   "outputs": [],
   "source": []
  }
 ],
 "metadata": {
  "kernelspec": {
   "display_name": "Python 3 (ipykernel)",
   "language": "python",
   "name": "python3"
  },
  "language_info": {
   "codemirror_mode": {
    "name": "ipython",
    "version": 3
   },
   "file_extension": ".py",
   "mimetype": "text/x-python",
   "name": "python",
   "nbconvert_exporter": "python",
   "pygments_lexer": "ipython3",
   "version": "3.11.5"
  }
 },
 "nbformat": 4,
 "nbformat_minor": 5
}
