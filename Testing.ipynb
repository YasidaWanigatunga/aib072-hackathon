{
 "cells": [
  {
   "cell_type": "markdown",
   "id": "fab13167-3e39-4453-aac4-8836baf0dcc0",
   "metadata": {},
   "source": [
    "### Initiate llm"
   ]
  },
  {
   "cell_type": "code",
   "execution_count": 3,
   "id": "a84f3232-8cae-4aa3-9bd2-778250588498",
   "metadata": {},
   "outputs": [],
   "source": [
    "#from langchain.llms import OpenAI\n",
    "#from dotenv import load_dotenv"
   ]
  },
  {
   "cell_type": "code",
   "execution_count": 7,
   "id": "d47c88a3-3cfc-4a0d-bbaa-24ba906f5690",
   "metadata": {},
   "outputs": [
    {
     "data": {
      "text/plain": [
       "True"
      ]
     },
     "execution_count": 7,
     "metadata": {},
     "output_type": "execute_result"
    }
   ],
   "source": [
    "load_dotenv()"
   ]
  },
  {
   "cell_type": "code",
   "execution_count": 8,
   "id": "d94b4e3a-45cf-4964-804f-30a50b10d3b4",
   "metadata": {},
   "outputs": [],
   "source": [
    "llm = OpenAI(temperature=0.6, max_tokens=500)"
   ]
  },
  {
   "cell_type": "code",
   "execution_count": 15,
   "id": "a8532748-1815-4dff-a5b9-b4a9e684f87d",
   "metadata": {},
   "outputs": [],
   "source": [
    "# Test LLM"
   ]
  },
  {
   "cell_type": "code",
   "execution_count": 9,
   "id": "d442e547-e42b-433e-86e5-1f03ed5aa733",
   "metadata": {},
   "outputs": [
    {
     "name": "stdout",
     "output_type": "stream",
     "text": [
      "\n",
      "\n",
      "Subject: Request for Refund on electronically purchased item\n",
      "\n",
      "Dear [Name],\n",
      "\n",
      "I am writing to request a refund for an electronically purchased item.\n",
      "\n",
      "On [date], I purchased [item name] from [website/app]. Unfortunately, the item was defective upon delivery and I am now requesting a refund.\n",
      "\n",
      "I understand that I may need to return the item to you before I receive a refund. If this is the case, please provide information on how I should return the item.\n",
      "\n",
      "I have included my proof of purchase and order number [include order number] below for your reference.\n",
      "\n",
      "Thank you for your time and consideration.\n",
      "\n",
      "Sincerely, \n",
      "[Your Name]\n"
     ]
    }
   ],
   "source": [
    "essay = llm(\"write email requesting refund for electronic item\")\n",
    "print(essay)"
   ]
  },
  {
   "cell_type": "markdown",
   "id": "43a3a86d-08cd-434b-ad22-8307a945a5e5",
   "metadata": {},
   "source": [
    "### Loading data"
   ]
  },
  {
   "cell_type": "code",
   "execution_count": 11,
   "id": "1fc0fdfc-c7c5-4884-b8e3-374259d2437a",
   "metadata": {},
   "outputs": [],
   "source": [
    "from langchain.document_loaders.csv_loader import CSVLoader\n",
    "loader = CSVLoader(file_path= './data/codebasics_faqs.csv', source_column=\"prompt\")\n",
    "\n",
    "# Store the loaded data in the 'data' variable\n",
    "data = loader.load()"
   ]
  },
  {
   "cell_type": "code",
   "execution_count": 26,
   "id": "d6017abc-48dd-45e3-9bba-b154fadef02e",
   "metadata": {},
   "outputs": [
    {
     "data": {
      "text/plain": [
       "75"
      ]
     },
     "execution_count": 26,
     "metadata": {},
     "output_type": "execute_result"
    }
   ],
   "source": [
    "data"
   ]
  },
  {
   "cell_type": "markdown",
   "id": "99574394-8c92-457d-86fd-22e53e81d154",
   "metadata": {},
   "source": [
    "### Embbedding"
   ]
  },
  {
   "cell_type": "code",
   "execution_count": 13,
   "id": "51703a04-6d0d-4224-a6b5-072fe4eb19ca",
   "metadata": {},
   "outputs": [],
   "source": [
    "from langchain.embeddings import OpenAIEmbeddings"
   ]
  },
  {
   "cell_type": "code",
   "execution_count": 14,
   "id": "26c1ce71-0708-43a6-b95f-963f989765e4",
   "metadata": {},
   "outputs": [],
   "source": [
    "embeddings = OpenAIEmbeddings()"
   ]
  },
  {
   "cell_type": "markdown",
   "id": "714e4f50-6a7e-4caa-b1f7-0b92224f7f3b",
   "metadata": {},
   "source": [
    "### Split data into chunks"
   ]
  },
  {
   "cell_type": "code",
   "execution_count": 17,
   "id": "80067574-bdc4-49b0-969a-9790d4f7d75b",
   "metadata": {},
   "outputs": [],
   "source": [
    "from langchain.text_splitter import CharacterTextSplitter"
   ]
  },
  {
   "cell_type": "code",
   "execution_count": 21,
   "id": "7b3aa621-af98-48a3-8b88-038f92e6a8ed",
   "metadata": {},
   "outputs": [],
   "source": [
    "text_splitter = CharacterTextSplitter(chunk_size=2000, chunk_overlap=0)"
   ]
  },
  {
   "cell_type": "code",
   "execution_count": 22,
   "id": "378e2f43-0e57-4fef-9884-f553bb55d9b8",
   "metadata": {
    "scrolled": true
   },
   "outputs": [],
   "source": [
    "docs = text_splitter.split_documents(data)"
   ]
  },
  {
   "cell_type": "code",
   "execution_count": 24,
   "id": "06e3f4d2-367b-4fee-99fe-5c6d9187f9a8",
   "metadata": {},
   "outputs": [
    {
     "data": {
      "text/plain": [
       "75"
      ]
     },
     "execution_count": 24,
     "metadata": {},
     "output_type": "execute_result"
    }
   ],
   "source": [
    "len(docs)"
   ]
  },
  {
   "cell_type": "markdown",
   "id": "5ae50a9b-ea64-4836-81b5-ddbdc0a8fede",
   "metadata": {},
   "source": [
    "### Vector database"
   ]
  },
  {
   "cell_type": "code",
   "execution_count": 25,
   "id": "4f6bd8ee-abe2-4890-b712-4c05ce159fc4",
   "metadata": {},
   "outputs": [],
   "source": [
    "from langchain.vectorstores import FAISS"
   ]
  },
  {
   "cell_type": "code",
   "execution_count": 27,
   "id": "e3ce06af-13e1-469e-a961-4d106f9f2f76",
   "metadata": {},
   "outputs": [],
   "source": [
    "db = FAISS.from_documents(docs, embeddings)"
   ]
  },
  {
   "cell_type": "code",
   "execution_count": null,
   "id": "2ba67e43-e00f-40d5-b893-22c35079b897",
   "metadata": {},
   "outputs": [],
   "source": [
    "# Test for similarity"
   ]
  },
  {
   "cell_type": "code",
   "execution_count": 29,
   "id": "213b2c30-e84a-470a-b35d-a4b79108b66a",
   "metadata": {},
   "outputs": [],
   "source": [
    "query = \"Can someone help me to create same chart exactly like this. I have created more than half of it. I want to add quadrant labels. Low medium high on x & y axis\"\n",
    "docs = db.similarity_search(query)"
   ]
  },
  {
   "cell_type": "code",
   "execution_count": 30,
   "id": "890f5039-e4f4-4bf7-acca-a9194c78b54d",
   "metadata": {},
   "outputs": [
    {
     "name": "stdout",
     "output_type": "stream",
     "text": [
      "prompt: Can someone help me to create same chart exactly like this. I have created more than half of it. I want to add quadrant labels. Low medium high on x & y axis\n",
      "response: Check this thread for instructions : https://discord.com/channels/1090613684163850280/1107745807848980490/1107746891418058762\n"
     ]
    }
   ],
   "source": [
    "print(docs[0].page_content)"
   ]
  },
  {
   "cell_type": "code",
   "execution_count": 31,
   "id": "54e7124b-aab1-4112-b00f-80120d880592",
   "metadata": {},
   "outputs": [],
   "source": [
    "# Create a retriever for querying the vector database\n",
    "retriever = db.as_retriever(score_threshold = 0.7)"
   ]
  },
  {
   "cell_type": "code",
   "execution_count": 33,
   "id": "53ff5308-9bd9-49b5-8e35-d97a92a1a881",
   "metadata": {},
   "outputs": [
    {
     "data": {
      "text/plain": [
       "4"
      ]
     },
     "execution_count": 33,
     "metadata": {},
     "output_type": "execute_result"
    }
   ],
   "source": [
    "rdocs = retriever.get_relevant_documents(\"I’m not sure if this course is good enough for me to invest some money. What can I do?\")\n",
    "len(rdocs)"
   ]
  },
  {
   "cell_type": "markdown",
   "id": "3e60e01e-0707-46f0-8b9a-84aaf498fdba",
   "metadata": {},
   "source": [
    "### RetrievalQA"
   ]
  },
  {
   "cell_type": "code",
   "execution_count": 34,
   "id": "9bec851e-fc82-4385-a470-eb1ba99c4ef6",
   "metadata": {},
   "outputs": [],
   "source": [
    "from langchain.chains import RetrievalQA"
   ]
  },
  {
   "cell_type": "code",
   "execution_count": 35,
   "id": "7259c1fa-6314-4add-a317-662f4930d261",
   "metadata": {},
   "outputs": [],
   "source": [
    "#when retrieving data some hallucinations occur, we need to avoid this."
   ]
  },
  {
   "cell_type": "code",
   "execution_count": 36,
   "id": "fa96b676-e70f-48d3-80c0-6933e1730ce4",
   "metadata": {},
   "outputs": [],
   "source": [
    "from langchain.prompts import PromptTemplate\n",
    "\n",
    "prompt_template = \"\"\"Given the following context and a question, generate an answer based on this context only.\n",
    "In the answer try to provide as much text as possible from \"response\" section in the source document context without making much changes.\n",
    "If the answer is not found in the context, kindly state \"I don't know.\" Don't try to make up an answer.\n",
    "\n",
    "CONTEXT: {context}\n",
    "\n",
    "QUESTION: {question}\"\"\"\n",
    "\n",
    "\n",
    "PROMPT = PromptTemplate(\n",
    "    template=prompt_template, input_variables=[\"context\", \"question\"]\n",
    ")\n",
    "chain_type_kwargs = {\"prompt\": PROMPT}"
   ]
  },
  {
   "cell_type": "code",
   "execution_count": 37,
   "id": "aa03d337-e303-4f66-abdd-231292b47178",
   "metadata": {},
   "outputs": [],
   "source": [
    "chain = RetrievalQA.from_chain_type(llm=llm,\n",
    "                            chain_type=\"stuff\", #map-reduced\n",
    "                            retriever=retriever,\n",
    "                            input_key=\"query\",\n",
    "                            return_source_documents=True,\n",
    "                            chain_type_kwargs=chain_type_kwargs) "
   ]
  },
  {
   "cell_type": "code",
   "execution_count": 38,
   "id": "36746284-f385-4423-bd77-2db7c4d9e681",
   "metadata": {},
   "outputs": [
    {
     "data": {
      "text/plain": [
       "{'query': 'Do you provide job assistance and also do you provide job gurantee?',\n",
       " 'result': '\\n\\nANSWER: Yes, We help you with resume and interview preparation along with that we help you in building online credibility, and based on requirements we refer candidates to potential recruiters. We created a much lighter version of this course on YouTube available for free (click this link) and many people gave us feedback that they were able to fetch jobs (see testimonials). Now this paid course is at least 5x better than the YouTube course which gives us ample confidence that you will be able to get a job. However, we want to be honest and do not want to make any impractical promises! Our guarantee is to prepare you for the job market by teaching the most relevant skills, knowledge & timeless principles good enough to fetch the job.',\n",
       " 'source_documents': [Document(page_content='prompt: Do you provide any job assistance?\\nresponse: Yes, We help you with resume and interview preparation along with that we help you in building online credibility, and based on requirements we refer candidates to potential recruiters.', metadata={'source': 'Do you provide any job assistance?', 'row': 11}),\n",
       "  Document(page_content='prompt: Do you provide any virtual internship?\\nresponse: Yes', metadata={'source': 'Do you provide any virtual internship?', 'row': 14}),\n",
       "  Document(page_content='prompt: Will this bootcamp guarantee me a job?\\nresponse: The courses included in this bootcamp are done by 9000+ learners and many of them have secured a job which gives us ample confidence that you will be able to get a job. However, we want to be honest and do not want to make any impractical promises! Our guarantee is to prepare you for the job market by teaching the most relevant skills, knowledge & timeless principles good enough to fetch the job.', metadata={'source': 'Will this bootcamp guarantee me a job?', 'row': 15}),\n",
       "  Document(page_content='prompt: Will this course guarantee me a job?\\nresponse: We created a much lighter version of this course on YouTube available for free (click this link) and many people gave us feedback that they were able to fetch jobs (see testimonials). Now this paid course is at least 5x better than the YouTube course which gives us ample confidence that you will be able to get a job. However, we want to be honest and do not want to make any impractical promises! Our guarantee is to prepare you for the job market by teaching the most relevant skills, knowledge & timeless principles good enough to fetch the job.', metadata={'source': 'Will this course guarantee me a job?', 'row': 33})]}"
      ]
     },
     "execution_count": 38,
     "metadata": {},
     "output_type": "execute_result"
    }
   ],
   "source": [
    "chain('Do you provide job assistance and also do you provide job gurantee?')"
   ]
  },
  {
   "cell_type": "code",
   "execution_count": 39,
   "id": "df0fefa6-296f-4259-b570-0f69f33f9a91",
   "metadata": {},
   "outputs": [
    {
     "data": {
      "text/plain": [
       "{'query': 'Do you guys provide internship and also do you offer EMI payments?',\n",
       " 'result': '\\n\\nANSWER: Yes, we provide virtual internship opportunities. However, we do not offer EMI payments.',\n",
       " 'source_documents': [Document(page_content='prompt: Do you provide any virtual internship?\\nresponse: Yes', metadata={'source': 'Do you provide any virtual internship?', 'row': 14}),\n",
       "  Document(page_content='prompt: Do we have an EMI option?\\nresponse: No', metadata={'source': 'Do we have an EMI option?', 'row': 13}),\n",
       "  Document(page_content='prompt: Do you provide any job assistance?\\nresponse: Yes, We help you with resume and interview preparation along with that we help you in building online credibility, and based on requirements we refer candidates to potential recruiters.', metadata={'source': 'Do you provide any job assistance?', 'row': 11}),\n",
       "  Document(page_content='prompt: Will this course guarantee me a job?\\nresponse: We created a much lighter version of this course on YouTube available for free (click this link) and many people gave us feedback that they were able to fetch jobs (see testimonials). Now this paid course is at least 5x better than the YouTube course which gives us ample confidence that you will be able to get a job. However, we want to be honest and do not want to make any impractical promises! Our guarantee is to prepare you for the job market by teaching the most relevant skills, knowledge & timeless principles good enough to fetch the job.', metadata={'source': 'Will this course guarantee me a job?', 'row': 33})]}"
      ]
     },
     "execution_count": 39,
     "metadata": {},
     "output_type": "execute_result"
    }
   ],
   "source": [
    "chain(\"Do you guys provide internship and also do you offer EMI payments?\")"
   ]
  },
  {
   "cell_type": "code",
   "execution_count": null,
   "id": "b2e79144-e57d-423c-bd17-ae319d1c62da",
   "metadata": {},
   "outputs": [],
   "source": []
  }
 ],
 "metadata": {
  "kernelspec": {
   "display_name": "Python 3 (ipykernel)",
   "language": "python",
   "name": "python3"
  },
  "language_info": {
   "codemirror_mode": {
    "name": "ipython",
    "version": 3
   },
   "file_extension": ".py",
   "mimetype": "text/x-python",
   "name": "python",
   "nbconvert_exporter": "python",
   "pygments_lexer": "ipython3",
   "version": "3.11.5"
  }
 },
 "nbformat": 4,
 "nbformat_minor": 5
}
